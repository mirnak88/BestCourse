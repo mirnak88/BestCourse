{
  "nbformat": 4,
  "nbformat_minor": 0,
  "metadata": {
    "colab": {
      "provenance": []
    },
    "kernelspec": {
      "name": "python3",
      "display_name": "Python 3"
    },
    "language_info": {
      "name": "python"
    }
  },
  "cells": [
    {
      "cell_type": "markdown",
      "source": [
        "#Job Shop Scheduling\n",
        "\n",
        "Job shop scheduling is one of the classic problems in Operations Research.\n",
        "\n",
        "A job shop refers to a collection of machines that process jobs. The jobs may be simple or complex, such as the production of a custom part, a print job at printing house, a patient treated in a hospital, or a meal produced in a fast food restaurant. The term \"machines\" can refer any device, person, or resource involved in the processing the jobs. In what follows in this notebook, a job comprises a series of tasks that requiring use of particular machines for known duration, and which must be completed in specified order.\n",
        "\n",
        "The job shop scheduling problem is to schedule a set of jobs on the available machines to optimize a metric of productivity. A typical metric is the makespan which refers to the time needed to process all jobs."
      ],
      "metadata": {
        "id": "KenUM5IcuNNQ"
      }
    },
    {
      "cell_type": "code",
      "execution_count": 164,
      "metadata": {
        "id": "y1MxAdacP3Sb"
      },
      "outputs": [],
      "source": [
        "import numpy as np\n",
        "import matplotlib.pyplot as plt\n",
        "import matplotlib.patches as mpatches\n",
        "import copy\n",
        "import random\n",
        "import math"
      ]
    },
    {
      "cell_type": "markdown",
      "source": [
        "## Some Theory\n",
        "\n",
        "**Genetic Algorithms** (GA) are based on **evolutionary approach** to AI, in which methods of evolution of population is used to obtain an optimal solution for a given problem. They were proposed in 1975 by [John Henry Holland](https://en.wikipedia.org/wiki/John_Henry_Holland).\n",
        "\n",
        "Genetic Algorithms are based on the following ideas:\n",
        "* Valid solutions to the problem can be represented as **genes**\n",
        "* **Crossover** allows us to combine two solutions together to obtain new valid solution\n",
        "* **Selection** is used to select more optimal solutions using some **fitness function**\n",
        "* **Mutations** are introduced to destabilize optimization and get us out of the local minimum\n",
        "\n",
        "If you want to implement a Genetic Algorithm, you need the following:\n",
        "\n",
        " * To find a method of coding our problem solutions using **genes** $g\\in\\Gamma$\n",
        " * On the set of genes $\\Gamma$ we need to define **fitness function** $\\mathrm{fit}: \\Gamma\\to\\mathbb{R}$. Smaller function values would correspond to better solutions.\n",
        " * To define **crossover** mechanism to combine two genes together to get a new valid solution $\\mathrm{crossover}: \\Gamma^2\\to\\Gamma$.\n",
        " * To define **mutation** mechanism $\\mathrm{mutate}: \\Gamma\\to\\Gamma$.\n",
        "In many cases, crossover and mutation are quite simple algorithms to manipulate genes as numeric sequences or bit vectors.\n",
        "\n",
        "Specific implementation of a genetic algorithm can vary from case to case, but overall structure is the following:\n",
        "\n",
        "1. Select initial population $G\\subset\\Gamma$\n",
        "2. Randomly select one of the operations that will be performed at this step: crossover or mutation\n",
        "3. **Crossover**:\n",
        "  * Randomly select two genes $g_1, g_2 \\in G$\n",
        "  * Compute crossover $g=\\mathrm{crossover}(g_1,g_2)$\n",
        "  * If $\\mathrm{fit}(g)<\\mathrm{fit}(g_1)$ or $\\mathrm{fit}(g)<\\mathrm{fit}(g_2)$ - replace corresponding gene in the population by $g$.\n",
        "4. **Mutation** - select random gene $g\\in G$ and replace it by $\\mathrm{mutate}(g)$\n",
        "5. Repeat from step 2, until we get sufficiently small value of $\\mathrm{fit}$, or until the limit on the number of steps is reached."
      ],
      "metadata": {
        "id": "Yh8MqO7C0EO9"
      }
    },
    {
      "cell_type": "markdown",
      "source": [
        "Let's now define `fit` function that calculates the \"cost\" of the solution.\n"
      ],
      "metadata": {
        "id": "3fbS6W-l0LQq"
      }
    },
    {
      "cell_type": "code",
      "source": [
        "def makespan(chromosomes, population_size, num_jobs, process_time, num_machines, machine_sequence):\n",
        "\n",
        "    chrom_fitness, chrom_fit=[],[]\n",
        "    for pop_size in range(population_size):\n",
        "        j_keys=[j for j in range(num_jobs)]\n",
        "        key_count={key:0 for key in j_keys}\n",
        "        j_count = {key:0 for key in j_keys}\n",
        "        m_keys = [j+1 for j in range(num_machines)]\n",
        "        m_count = {key:0 for key in m_keys}\n",
        "        for i in chromosomes[pop_size]:\n",
        "            get_time=int(process_time[i][key_count[i]])\n",
        "            gen_mach = int(machine_sequence[i][key_count[i]])\n",
        "            j_count[i]=j_count[i]+get_time\n",
        "\n",
        "            m_count[gen_mach]=m_count[gen_mach]+get_time\n",
        "            if m_count[gen_mach] < j_count[i]:\n",
        "                    m_count[gen_mach] = j_count[i]\n",
        "            elif m_count[gen_mach] > j_count[i]:\n",
        "                    j_count[i] = m_count[gen_mach]\n",
        "\n",
        "            key_count[i] = key_count[i] + 1\n",
        "\n",
        "        makespan = max(j_count.values())\n",
        "        chrom_fitness.append(1/makespan)\n",
        "        chrom_fit.append(makespan)\n",
        "\n",
        "\n",
        "    return chrom_fit, chrom_fitness\n"
      ],
      "metadata": {
        "id": "1gKwD_4bP4Nv"
      },
      "execution_count": 165,
      "outputs": []
    },
    {
      "cell_type": "code",
      "source": [
        "def cost_func(chromosomes, population_size, num_job, process_time, num_machine, machine_sequence,):\n",
        "    chrom_fit, chrom_fitness=makespan(chromosomes, population_size, num_job, process_time, num_machine, machine_sequence)\n",
        "    return chrom_fitness, chrom_fit\n"
      ],
      "metadata": {
        "id": "_qma_Sc7P6yS"
      },
      "execution_count": 166,
      "outputs": []
    },
    {
      "cell_type": "code",
      "source": [
        "def rank(cost, chromosomes, population_size, num_job, process_time, num_machine, machine_sequence, population_list):\n",
        "    costs, chrom_fit = cost_func(chromosomes, population_size, num_job, process_time, num_machine, machine_sequence)\n",
        "    ranked = sorted(list(zip(chromosomes, costs, chrom_fit, population_list)), key=lambda c: c[2])\n",
        "    ranked_chrom, ranked_costs, ranked_chrom_fit, ranked_population_list = list(zip(*ranked))\n",
        "    ranked_chrom = list(ranked_chrom)\n",
        "    ranked_chrom_fit = list(ranked_chrom_fit)\n",
        "    return ranked_chrom, ranked_costs, ranked_chrom_fit\n"
      ],
      "metadata": {
        "id": "gyudY7WoP8F1"
      },
      "execution_count": 167,
      "outputs": []
    },
    {
      "cell_type": "markdown",
      "source": [
        "**Selection** is an operation that chooses individuals from the current population to parent the next generation. The selection process is typically based on the fitness of the individuals, with those having lower (for ma-higher) fitness values being more likely to be selected."
      ],
      "metadata": {
        "id": "6p7EGEBmIgOS"
      }
    },
    {
      "cell_type": "code",
      "source": [
        "def natural_selection(ranked_parents, n):\n",
        "    return ranked_parents[:n]\n"
      ],
      "metadata": {
        "id": "mcalxsy9P-oz"
      },
      "execution_count": 168,
      "outputs": []
    },
    {
      "cell_type": "markdown",
      "source": [
        "**Roulette selection**, also known as roulette wheel selection, is a method used in Genetic Algorithms to select individuals for reproduction based on their fitness. Here's how it works:\n",
        "\n",
        "*  Fitness Proportionate: Each individual's probability of being selected is proportional to its fitness. Higher fitness individuals have a larger slice of the \"roulette wheel.\"\n",
        "\n",
        "*  Roulette Wheel: Imagine a roulette wheel where each individual has a segment size corresponding to its fitness. The wheel is spun, and the individual where the pointer lands is selected.\n",
        "\n",
        "*  Selection Process: This process is repeated until the desired number of individuals is selected for reproduction.\n",
        "\n",
        "Roulette selection ensures that fitter individuals have a higher chance of being selected, but it also gives less fit individuals a chance, maintaining genetic diversity."
      ],
      "metadata": {
        "id": "fkit4fu3LGqh"
      }
    },
    {
      "cell_type": "code",
      "source": [
        "def roulette_selection(parents):\n",
        "\n",
        "  pairs = []\n",
        "  i = 0\n",
        "  for i in range(0, len(parents), 2):\n",
        "    weights=[];\n",
        "    for i in range(len(parents)):\n",
        "        weights.append((len(parents)-i)*random.random())\n",
        "    if (weights[0]>=weights[1]):\n",
        "        maxInd1=0;\n",
        "        maxInd2=1;\n",
        "    else:\n",
        "        maxInd1=1;\n",
        "        maxInd2=0;\n",
        "\n",
        "    for i in range(2,len(parents)):\n",
        "        if weights[i]>weights[maxInd1]:\n",
        "            maxInd2=maxInd1\n",
        "            maxInd1=i\n",
        "        elif weights[i]>weights[maxInd2]:\n",
        "            maxInd2=1\n",
        "    pairs.append([parents[maxInd1], parents[maxInd2]])\n",
        "\n",
        "  return pairs\n"
      ],
      "metadata": {
        "id": "4YP2IJ-FP_9l"
      },
      "execution_count": 169,
      "outputs": []
    },
    {
      "cell_type": "markdown",
      "source": [
        "In a Job Shop Scheduling Problem (JSSP), the initial population in a Genetic Algorithm (GA) consists of a set of potential solutions (schedules) that are generated to start the evolutionary process.\n",
        " Each individual in the population can be represented as a permutation of operations. This encoding helps in maintaining feasible schedules during crossover and mutation operations."
      ],
      "metadata": {
        "id": "d4BpxYeQLsQQ"
      }
    },
    {
      "cell_type": "code",
      "source": [
        "def generate_initial_population(num_job,num_mach, population_size):\n",
        "    population=[]\n",
        "    init_list=[]\n",
        "    for i_job in range(0,num_job):\n",
        "        for j_mach in range(0,num_mach):\n",
        "            init_list.append(i_job)\n",
        "    for i in range(0,population_size):\n",
        "      permuted_lst = init_list[:]  # Create a copy of the list\n",
        "      random.shuffle(permuted_lst)  # Shuffle the copy in place\n",
        "      population.append(permuted_lst)\n",
        "\n",
        "    return population\n",
        "\n"
      ],
      "metadata": {
        "id": "ZYLzPhMbQCtO"
      },
      "execution_count": 170,
      "outputs": []
    },
    {
      "cell_type": "code",
      "source": [
        "pop=generate_initial_population(3,3,5)\n",
        "print(pop)"
      ],
      "metadata": {
        "colab": {
          "base_uri": "https://localhost:8080/"
        },
        "id": "lKxvd-PVQHC-",
        "outputId": "550a4d83-30ad-4a8e-dc5c-2ee887903499"
      },
      "execution_count": 171,
      "outputs": [
        {
          "output_type": "stream",
          "name": "stdout",
          "text": [
            "[[1, 1, 2, 0, 2, 2, 1, 0, 0], [0, 2, 0, 2, 1, 2, 1, 1, 0], [1, 2, 0, 2, 1, 2, 0, 1, 0], [0, 1, 1, 0, 1, 2, 0, 2, 2], [1, 2, 0, 0, 2, 2, 1, 0, 1]]\n"
          ]
        }
      ]
    },
    {
      "cell_type": "markdown",
      "source": [
        "In the context of the Job Shop Scheduling Problem (JSSP) using Genetic Algorithms (GAs), mutation is an operator used to introduce diversity into the population by making small random changes to individual schedules.\n",
        "\n",
        "*Swap Mutation:* Two operations within a schedule are randomly selected and swapped. This can help explore different sequences of operations."
      ],
      "metadata": {
        "id": "UHjTrJl4L7xb"
      }
    },
    {
      "cell_type": "code",
      "source": [
        "def mutation(population_list,mutation_rate):\n",
        "  population_mutation=[]\n",
        "  for iter in range(0,len(population_list)):\n",
        "    individuala=population_list[iter]\n",
        "    individuala_new=copy.deepcopy(individuala)\n",
        "    if random.random()<mutation_rate:\n",
        "      index1=random.randint(0,len(individuala)-1)\n",
        "      index2=random.randint(0,len(individuala)-1)\n",
        "\n",
        "      index1_value=individuala[index1]\n",
        "      index2_value=individuala[index2]\n",
        "      individuala_new[index1]=index2_value\n",
        "      individuala_new[index2]=index1_value\n",
        "\n",
        "    population_mutation.append(individuala_new)\n",
        "\n",
        "  return population_mutation\n"
      ],
      "metadata": {
        "id": "gXeKtwJ0R74Z"
      },
      "execution_count": 172,
      "outputs": []
    },
    {
      "cell_type": "code",
      "source": [
        "print(pop)\n",
        "pop_mutat=mutation(pop,0.9)\n",
        "\n",
        "print(pop_mutat)"
      ],
      "metadata": {
        "colab": {
          "base_uri": "https://localhost:8080/"
        },
        "id": "91TFMZaSS_DV",
        "outputId": "8573739d-c8f6-4bae-dcfd-744fc69a232c"
      },
      "execution_count": 173,
      "outputs": [
        {
          "output_type": "stream",
          "name": "stdout",
          "text": [
            "[[1, 1, 2, 0, 2, 2, 1, 0, 0], [0, 2, 0, 2, 1, 2, 1, 1, 0], [1, 2, 0, 2, 1, 2, 0, 1, 0], [0, 1, 1, 0, 1, 2, 0, 2, 2], [1, 2, 0, 0, 2, 2, 1, 0, 1]]\n",
            "[[1, 1, 2, 0, 2, 1, 2, 0, 0], [0, 2, 0, 2, 1, 2, 1, 1, 0], [1, 2, 0, 2, 1, 2, 0, 1, 0], [0, 1, 1, 1, 0, 2, 0, 2, 2], [1, 2, 0, 0, 2, 2, 1, 0, 1]]\n"
          ]
        }
      ]
    },
    {
      "cell_type": "markdown",
      "source": [
        "Crossover (or recombination) is an operator that combines parts of two parent solutions to produce one or more offspring solutions. The goal of crossover is to combine the strengths of the parents to create better-performing offspring.\n",
        "\n"
      ],
      "metadata": {
        "id": "51c99VwNMG_9"
      }
    },
    {
      "cell_type": "code",
      "source": [
        "def crossover(pairs, num_job):\n",
        "    new_population=[]\n",
        "    for pair in pairs:\n",
        "        parent1 = pair[0]\n",
        "        parent1_copy = copy.deepcopy(parent1)\n",
        "        parent2 = pair[1]\n",
        "        parent2_copy = copy.deepcopy(parent2)\n",
        "        children1 = []\n",
        "        children2 = []\n",
        "        crossover_point = random.randint(0, len(parent1) - 1)\n",
        "        children1_first_part = parent1[0:crossover_point]\n",
        "        children2_first_part = parent2[0:crossover_point]\n",
        "\n",
        "        for element in children1_first_part:\n",
        "            parent2_copy.remove(element)\n",
        "        children1 = children1_first_part + parent2_copy\n",
        "\n",
        "        for element in children2_first_part:\n",
        "            parent1_copy.remove(element)\n",
        "        children2 = children2_first_part + parent1_copy\n",
        "        new_population.append(children1)\n",
        "        new_population.append(children2)\n",
        "    return new_population"
      ],
      "metadata": {
        "id": "DZMvvCXiYmEG"
      },
      "execution_count": 174,
      "outputs": []
    },
    {
      "cell_type": "markdown",
      "source": [
        "Elitism is a strategy used to ensure that the best individuals (solutions) from the current generation are preserved and carried over to the next generation without undergoing mutation or crossover."
      ],
      "metadata": {
        "id": "s6JqeYKEKWrK"
      }
    },
    {
      "cell_type": "code",
      "source": [
        "def elitis(ranked_parenst, ranked_children, elitis_rate, population_size):\n",
        "    old_ind_size=int(np.round(population_size*elitis_rate))\n",
        "    return ranked_parenst[:old_ind_size]+ranked_children[:(population_size-old_ind_size)]\n"
      ],
      "metadata": {
        "id": "H-7JGZbthN6v"
      },
      "execution_count": 175,
      "outputs": []
    },
    {
      "cell_type": "markdown",
      "source": [
        "This flowchart outlines the typical steps in a GA:\n",
        "\n",
        "1.   Initialization: Generate the initial population.\n",
        "2.   Evaluation: Assess the fitness of each individual.\n",
        "3.   Selection: Select individuals for reproduction based on fitness.\n",
        "4.   Crossover: Combine pairs of parents to create offspring.\n",
        "5.   Mutation: Introduce random changes to offspring.\n",
        "6.   Replacement: Form the new population.\n",
        "7.   Termination: Check if the stopping condition is met (e.g., number of generations, convergence)."
      ],
      "metadata": {
        "id": "fd5BmjlUMmed"
      }
    },
    {
      "cell_type": "code",
      "source": [
        "def job_schedule(process_time,machine_sequence,cost_func, population_size = 10, elitis_rate=0.1, mutation_rate=0.3, inverse_mutation_rate=0.2, num_iteration = 20):\n",
        "    makespan_record=[]\n",
        "\n",
        "\n",
        "    num_job,num_machine=process_time.shape\n",
        "\n",
        "    avg_list=[]\n",
        "    Tbest=math.inf\n",
        "    same=0\n",
        "\n",
        "    population_list=generate_initial_population(num_job, num_machine,population_size)\n",
        "    chromosomes=population_list\n",
        "\n",
        "    for iteration in range(num_iteration):\n",
        "        Tbest_now = math.inf\n",
        "\n",
        "        parents, costs, chrom_fit=rank(cost_func,chromosomes, population_size, num_job, process_time, num_machine, machine_sequence, population_list)\n",
        "\n",
        "        pairs=roulette_selection(parents)\n",
        "\n",
        "        offspring_list= crossover(pairs, num_job)\n",
        "\n",
        "        offspring_list=mutation(offspring_list,mutation_rate)\n",
        "\n",
        "\n",
        "\n",
        "        ranked_children,costs_children,chrom_fit_children=rank(cost_func,offspring_list,population_size,num_job,process_time,num_machine,machine_sequence,population_list)\n",
        "\n",
        "        chromosomes=elitis(parents,ranked_children,elitis_rate,population_size)\n",
        "\n",
        "\n",
        "        for pop_size in range(population_size):\n",
        "            if chrom_fit[pop_size] < Tbest_now:\n",
        "                Tbest_now = chrom_fit[pop_size]\n",
        "                sequence_now = copy.deepcopy(chromosomes[pop_size])\n",
        "        if Tbest_now < Tbest:\n",
        "            Tbest = Tbest_now\n",
        "            sequence_best = copy.deepcopy(sequence_now)\n",
        "        if Tbest_now==Tbest:\n",
        "            same+=1\n",
        "        if same>15:\n",
        "            break\n",
        "        makespan_record.append(Tbest)\n",
        "\n",
        "    print(\"optimal sequence\", sequence_best)\n",
        "    print(\"optimal value:%f\"%Tbest)\n",
        "    print(\"\\n\")\n",
        "\n",
        "    plt.plot([i for i in range(len(makespan_record))],makespan_record,'b')\n",
        "    plt.ylabel('makespan', fontsize=15)\n",
        "    plt.xlabel('generation', fontsize=15)\n",
        "    plt.show()\n",
        "\n",
        "    return Tbest,sequence_best\n"
      ],
      "metadata": {
        "id": "HWGdM383hSEP"
      },
      "execution_count": 176,
      "outputs": []
    },
    {
      "cell_type": "code",
      "source": [
        "def schedule_form(schedule,process_time):\n",
        "\n",
        "    num_jobs,num_machines=process_time.shape\n",
        "    j_keys = [j for j in range(num_jobs)]\n",
        "    key_count = {key: 0 for key in j_keys}\n",
        "    j_count = {key: 0 for key in j_keys}\n",
        "    m_keys = [j + 1 for j in range(num_machines)]\n",
        "    m_count = {key: 0 for key in m_keys}\n",
        "    schedule_form = []\n",
        "\n",
        "    for i in schedule:\n",
        "        item={}\n",
        "        item['job']=i\n",
        "        get_time = int(process_time[i][key_count[i]])\n",
        "        gen_mach = int(machine_sequence[i][key_count[i]])\n",
        "        item['machine'] = gen_mach\n",
        "        item['start'] = max(m_count[gen_mach], j_count[i])\n",
        "        j_count[i] = j_count[i] + get_time\n",
        "\n",
        "        m_count[gen_mach] = m_count[gen_mach] + get_time\n",
        "        if m_count[gen_mach] < j_count[i]:\n",
        "            m_count[gen_mach] = j_count[i]\n",
        "        elif m_count[gen_mach] > j_count[i]:\n",
        "            j_count[i] = m_count[gen_mach]\n",
        "        item['end'] = j_count[i]\n",
        "        key_count[i] = key_count[i] + 1\n",
        "\n",
        "        schedule_form.append(item)\n",
        "    return schedule_form\n"
      ],
      "metadata": {
        "id": "FBdOFbzjhcR9"
      },
      "execution_count": 177,
      "outputs": []
    },
    {
      "cell_type": "code",
      "source": [
        "def plot_gantt_chart(schedule):\n",
        "\n",
        "    fig, ax = plt.subplots()\n",
        "\n",
        "    # Assign colors to jobs\n",
        "    job_colors = {}\n",
        "    for job in schedule:\n",
        "        if job['job'] not in job_colors:\n",
        "            job_colors[job['job']] = plt.cm.tab20(job['job'] % 20)\n",
        "\n",
        "    # Add tasks to the chart\n",
        "    for task in schedule:\n",
        "        job = task['job']\n",
        "        machine = task['machine']\n",
        "        start = task['start']\n",
        "        end = task['end']\n",
        "        ax.add_patch(mpatches.Rectangle((start, machine - 0.4), end - start, 0.8, color=job_colors[job]))\n",
        "        ax.text((start + end) / 2, machine, f'Job {job}', ha='center', va='center', color='white')\n",
        "\n",
        "    # Set labels and title\n",
        "    machines = sorted(set(task['machine'] for task in schedule))\n",
        "    ax.set_yticks([i for i in range(1, max(task['machine'] for task in schedule) + 1)])\n",
        "    ax.set_yticklabels([f'Machine {i}' for i in range(1, max(task['machine'] for task in schedule) + 1)])\n",
        "    ax.set_ylim(min(machines) - 0.5, max(machines) + 0.5)\n",
        "    max_end_time = max(task['end'] for task in schedule)\n",
        "    ax.set_xticks(range(0, max_end_time + 1))\n",
        "    ax.set_xlabel('Time')\n",
        "    ax.set_ylabel('Machine')\n",
        "    ax.set_title('Gantt Chart for Job Shop Scheduling')\n",
        "\n",
        "    plt.show()"
      ],
      "metadata": {
        "id": "TGW_6sNgslpE"
      },
      "execution_count": 178,
      "outputs": []
    },
    {
      "cell_type": "code",
      "source": [
        "machine_sequence = np.array([[3,1,2,4,6,5],[2,3,5,6,1,4], [3,4,6,1,2,5],[2,1,3,4,5,6],[3,2,5,6,1,4],[2,4,6,1,5,3]])\n",
        "process_time = np.array([[1,3,6,7,3,6],[8,5,10,10,10,4],[5,4,8,9,1,7],[5,5,5,3,8,9],[3,3,9,10,4,1]])\n",
        "\n",
        "\n",
        "# machine_sequence = np.array([[3,1,2,4,6,5],[2,3,5,6,1,4], [3,4,6,1,2,5],[2,1,3,4,5,6],[3,2,5,6,1,4],[2,4,6,1,5,3]])\n",
        "# process_time = np.array([[1,3,6,7,3,6],[8,5,10,10,10,4],[5,4,8,9,1,7],[5,5,5,3,8,9],[3,3,9,10,4,1]])\n",
        "\n",
        "# machine_sequence = np.array([[1,4,2,3],[4,1,2,3], [2,1,4,3],[4,1,2,3]])\n",
        "# process_time = np.array([[4,3,2,1],[4,5,2,2],[2,3,4,1],[3,4,1,1]])\n",
        "\n",
        "\n",
        "time,schedule = job_schedule(process_time,machine_sequence,cost_func)\n",
        "schedule=schedule_form(schedule,process_time)\n",
        "print(schedule)\n",
        "plot_gantt_chart(schedule)"
      ],
      "metadata": {
        "colab": {
          "base_uri": "https://localhost:8080/",
          "height": 1000
        },
        "id": "A0hGfNpLsoPe",
        "outputId": "42d899e9-e190-4d63-87de-083f01bb85c8"
      },
      "execution_count": 179,
      "outputs": [
        {
          "output_type": "stream",
          "name": "stdout",
          "text": [
            "optimal sequence [4, 3, 4, 2, 4, 1, 3, 2, 0, 2, 3, 1, 0, 4, 3, 2, 1, 3, 4, 2, 0, 0, 1, 0, 1, 2, 0, 4, 1, 3]\n",
            "optimal value:55.000000\n",
            "\n",
            "\n"
          ]
        },
        {
          "output_type": "display_data",
          "data": {
            "text/plain": [
              "<Figure size 640x480 with 1 Axes>"
            ],
            "image/png": "[encoded data removed]"
          },
          "metadata": {}
        },
        {
          "output_type": "stream",
          "name": "stdout",
          "text": [
            "[{'job': 4, 'machine': 3, 'start': 0, 'end': 3}, {'job': 3, 'machine': 2, 'start': 0, 'end': 5}, {'job': 4, 'machine': 2, 'start': 5, 'end': 8}, {'job': 2, 'machine': 3, 'start': 3, 'end': 8}, {'job': 4, 'machine': 5, 'start': 8, 'end': 17}, {'job': 1, 'machine': 2, 'start': 8, 'end': 16}, {'job': 3, 'machine': 1, 'start': 5, 'end': 10}, {'job': 2, 'machine': 4, 'start': 8, 'end': 12}, {'job': 0, 'machine': 3, 'start': 8, 'end': 9}, {'job': 2, 'machine': 6, 'start': 12, 'end': 20}, {'job': 3, 'machine': 3, 'start': 10, 'end': 15}, {'job': 1, 'machine': 3, 'start': 16, 'end': 21}, {'job': 0, 'machine': 1, 'start': 10, 'end': 13}, {'job': 4, 'machine': 6, 'start': 20, 'end': 30}, {'job': 3, 'machine': 4, 'start': 15, 'end': 18}, {'job': 2, 'machine': 1, 'start': 20, 'end': 29}, {'job': 1, 'machine': 5, 'start': 21, 'end': 31}, {'job': 3, 'machine': 5, 'start': 31, 'end': 39}, {'job': 4, 'machine': 1, 'start': 30, 'end': 34}, {'job': 2, 'machine': 2, 'start': 29, 'end': 30}, {'job': 0, 'machine': 2, 'start': 30, 'end': 36}, {'job': 0, 'machine': 4, 'start': 36, 'end': 43}, {'job': 1, 'machine': 6, 'start': 31, 'end': 41}, {'job': 0, 'machine': 6, 'start': 43, 'end': 46}, {'job': 1, 'machine': 1, 'start': 41, 'end': 51}, {'job': 2, 'machine': 5, 'start': 39, 'end': 46}, {'job': 0, 'machine': 5, 'start': 46, 'end': 52}, {'job': 4, 'machine': 4, 'start': 43, 'end': 44}, {'job': 1, 'machine': 4, 'start': 51, 'end': 55}, {'job': 3, 'machine': 6, 'start': 46, 'end': 55}]\n"
          ]
        },
        {
          "output_type": "display_data",
          "data": {
            "text/plain": [
              "<Figure size 640x480 with 1 Axes>"
            ],
            "image/png": "[encoded data removed]"
          },
          "metadata": {}
        }
      ]
    }
  ]
}